{
 "cells": [
  {
   "cell_type": "markdown",
   "id": "57b29fd6-d089-4717-ab57-4da4594dec1f",
   "metadata": {},
   "source": [
    "### Importing all necessary packages"
   ]
  },
  {
   "cell_type": "code",
   "execution_count": 645,
   "id": "81da255d-45cd-49c8-8286-90f4bb516c0d",
   "metadata": {},
   "outputs": [],
   "source": [
    "import numpy as np\n",
    "import pandas as pd\n",
    "import matplotlib.pyplot as plt\n",
    "import os"
   ]
  },
  {
   "cell_type": "code",
   "execution_count": 5,
   "id": "864fd27f-2dfe-40f3-b26f-2bba9e265988",
   "metadata": {},
   "outputs": [],
   "source": [
    "os.chdir(r'C:\\Users\\91630\\Downloads\\Python Foundation Case Study 1 - Retail Case Study (1)\\Case Study 1 - Retail Case Study')"
   ]
  },
  {
   "cell_type": "code",
   "execution_count": 7,
   "id": "f0f20275-5a03-4102-aa62-e4c19f5b9189",
   "metadata": {},
   "outputs": [
    {
     "data": {
      "text/plain": [
       "'C:\\\\Users\\\\91630\\\\Downloads\\\\Python Foundation Case Study 1 - Retail Case Study (1)\\\\Case Study 1 - Retail Case Study'"
      ]
     },
     "execution_count": 7,
     "metadata": {},
     "output_type": "execute_result"
    }
   ],
   "source": [
    "os.getcwd()"
   ]
  },
  {
   "cell_type": "markdown",
   "id": "32d2b682-e3c5-4819-971a-329ce3e69875",
   "metadata": {},
   "source": [
    "# 1. Merge the datasets Customers, Product Hierarchy and Transactions as Customer_Final. Ensure to keep all customers who have done transactions with us and select the join type accordingly."
   ]
  },
  {
   "cell_type": "code",
   "execution_count": 647,
   "id": "101dc30e-4a07-4cd8-baf6-c7fda55ec049",
   "metadata": {},
   "outputs": [],
   "source": [
    "customer=pd.read_csv('Customer.csv')"
   ]
  },
  {
   "cell_type": "code",
   "execution_count": 301,
   "id": "dea44d0c-998a-4416-ada3-48b3873ab632",
   "metadata": {},
   "outputs": [
    {
     "data": {
      "text/html": [
       "<div>\n",
       "<style scoped>\n",
       "    .dataframe tbody tr th:only-of-type {\n",
       "        vertical-align: middle;\n",
       "    }\n",
       "\n",
       "    .dataframe tbody tr th {\n",
       "        vertical-align: top;\n",
       "    }\n",
       "\n",
       "    .dataframe thead th {\n",
       "        text-align: right;\n",
       "    }\n",
       "</style>\n",
       "<table border=\"1\" class=\"dataframe\">\n",
       "  <thead>\n",
       "    <tr style=\"text-align: right;\">\n",
       "      <th></th>\n",
       "      <th>customer_Id</th>\n",
       "      <th>DOB</th>\n",
       "      <th>Gender</th>\n",
       "      <th>city_code</th>\n",
       "    </tr>\n",
       "  </thead>\n",
       "  <tbody>\n",
       "    <tr>\n",
       "      <th>0</th>\n",
       "      <td>268408</td>\n",
       "      <td>02-01-1970</td>\n",
       "      <td>M</td>\n",
       "      <td>4.0</td>\n",
       "    </tr>\n",
       "    <tr>\n",
       "      <th>1</th>\n",
       "      <td>269696</td>\n",
       "      <td>07-01-1970</td>\n",
       "      <td>F</td>\n",
       "      <td>8.0</td>\n",
       "    </tr>\n",
       "    <tr>\n",
       "      <th>2</th>\n",
       "      <td>268159</td>\n",
       "      <td>08-01-1970</td>\n",
       "      <td>F</td>\n",
       "      <td>8.0</td>\n",
       "    </tr>\n",
       "    <tr>\n",
       "      <th>3</th>\n",
       "      <td>270181</td>\n",
       "      <td>10-01-1970</td>\n",
       "      <td>F</td>\n",
       "      <td>2.0</td>\n",
       "    </tr>\n",
       "    <tr>\n",
       "      <th>4</th>\n",
       "      <td>268073</td>\n",
       "      <td>11-01-1970</td>\n",
       "      <td>M</td>\n",
       "      <td>1.0</td>\n",
       "    </tr>\n",
       "  </tbody>\n",
       "</table>\n",
       "</div>"
      ],
      "text/plain": [
       "   customer_Id         DOB Gender  city_code\n",
       "0       268408  02-01-1970      M        4.0\n",
       "1       269696  07-01-1970      F        8.0\n",
       "2       268159  08-01-1970      F        8.0\n",
       "3       270181  10-01-1970      F        2.0\n",
       "4       268073  11-01-1970      M        1.0"
      ]
     },
     "execution_count": 301,
     "metadata": {},
     "output_type": "execute_result"
    }
   ],
   "source": [
    "customer.head()"
   ]
  },
  {
   "cell_type": "code",
   "execution_count": 649,
   "id": "59013541-198c-4877-a952-3d692b360402",
   "metadata": {},
   "outputs": [],
   "source": [
    "transactions=pd.read_csv('Transactions.csv')"
   ]
  },
  {
   "cell_type": "code",
   "execution_count": 15,
   "id": "3d9c2150-5f59-4e2a-8b99-069541ce3570",
   "metadata": {},
   "outputs": [
    {
     "data": {
      "text/html": [
       "<div>\n",
       "<style scoped>\n",
       "    .dataframe tbody tr th:only-of-type {\n",
       "        vertical-align: middle;\n",
       "    }\n",
       "\n",
       "    .dataframe tbody tr th {\n",
       "        vertical-align: top;\n",
       "    }\n",
       "\n",
       "    .dataframe thead th {\n",
       "        text-align: right;\n",
       "    }\n",
       "</style>\n",
       "<table border=\"1\" class=\"dataframe\">\n",
       "  <thead>\n",
       "    <tr style=\"text-align: right;\">\n",
       "      <th></th>\n",
       "      <th>transaction_id</th>\n",
       "      <th>cust_id</th>\n",
       "      <th>tran_date</th>\n",
       "      <th>prod_subcat_code</th>\n",
       "      <th>prod_cat_code</th>\n",
       "      <th>Qty</th>\n",
       "      <th>Rate</th>\n",
       "      <th>Tax</th>\n",
       "      <th>total_amt</th>\n",
       "      <th>Store_type</th>\n",
       "    </tr>\n",
       "  </thead>\n",
       "  <tbody>\n",
       "    <tr>\n",
       "      <th>0</th>\n",
       "      <td>80712190438</td>\n",
       "      <td>270351</td>\n",
       "      <td>28-02-2014</td>\n",
       "      <td>1</td>\n",
       "      <td>1</td>\n",
       "      <td>-5</td>\n",
       "      <td>-772</td>\n",
       "      <td>405.300</td>\n",
       "      <td>-4265.300</td>\n",
       "      <td>e-Shop</td>\n",
       "    </tr>\n",
       "    <tr>\n",
       "      <th>1</th>\n",
       "      <td>29258453508</td>\n",
       "      <td>270384</td>\n",
       "      <td>27-02-2014</td>\n",
       "      <td>5</td>\n",
       "      <td>3</td>\n",
       "      <td>-5</td>\n",
       "      <td>-1497</td>\n",
       "      <td>785.925</td>\n",
       "      <td>-8270.925</td>\n",
       "      <td>e-Shop</td>\n",
       "    </tr>\n",
       "    <tr>\n",
       "      <th>2</th>\n",
       "      <td>51750724947</td>\n",
       "      <td>273420</td>\n",
       "      <td>24-02-2014</td>\n",
       "      <td>6</td>\n",
       "      <td>5</td>\n",
       "      <td>-2</td>\n",
       "      <td>-791</td>\n",
       "      <td>166.110</td>\n",
       "      <td>-1748.110</td>\n",
       "      <td>TeleShop</td>\n",
       "    </tr>\n",
       "    <tr>\n",
       "      <th>3</th>\n",
       "      <td>93274880719</td>\n",
       "      <td>271509</td>\n",
       "      <td>24-02-2014</td>\n",
       "      <td>11</td>\n",
       "      <td>6</td>\n",
       "      <td>-3</td>\n",
       "      <td>-1363</td>\n",
       "      <td>429.345</td>\n",
       "      <td>-4518.345</td>\n",
       "      <td>e-Shop</td>\n",
       "    </tr>\n",
       "    <tr>\n",
       "      <th>4</th>\n",
       "      <td>51750724947</td>\n",
       "      <td>273420</td>\n",
       "      <td>23-02-2014</td>\n",
       "      <td>6</td>\n",
       "      <td>5</td>\n",
       "      <td>-2</td>\n",
       "      <td>-791</td>\n",
       "      <td>166.110</td>\n",
       "      <td>-1748.110</td>\n",
       "      <td>TeleShop</td>\n",
       "    </tr>\n",
       "  </tbody>\n",
       "</table>\n",
       "</div>"
      ],
      "text/plain": [
       "   transaction_id  cust_id   tran_date  prod_subcat_code  prod_cat_code  Qty  \\\n",
       "0     80712190438   270351  28-02-2014                 1              1   -5   \n",
       "1     29258453508   270384  27-02-2014                 5              3   -5   \n",
       "2     51750724947   273420  24-02-2014                 6              5   -2   \n",
       "3     93274880719   271509  24-02-2014                11              6   -3   \n",
       "4     51750724947   273420  23-02-2014                 6              5   -2   \n",
       "\n",
       "   Rate      Tax  total_amt Store_type  \n",
       "0  -772  405.300  -4265.300     e-Shop  \n",
       "1 -1497  785.925  -8270.925     e-Shop  \n",
       "2  -791  166.110  -1748.110   TeleShop  \n",
       "3 -1363  429.345  -4518.345     e-Shop  \n",
       "4  -791  166.110  -1748.110   TeleShop  "
      ]
     },
     "execution_count": 15,
     "metadata": {},
     "output_type": "execute_result"
    }
   ],
   "source": [
    "transactions.head()"
   ]
  },
  {
   "cell_type": "code",
   "execution_count": 651,
   "id": "35a4c706-4288-4313-ae4c-de7a6f7790fa",
   "metadata": {},
   "outputs": [],
   "source": [
    "product=pd.read_csv('prod_cat_info.csv')"
   ]
  },
  {
   "cell_type": "code",
   "execution_count": 53,
   "id": "6f75e0f5-c314-49d3-994b-0cd3861c5097",
   "metadata": {},
   "outputs": [
    {
     "data": {
      "text/html": [
       "<div>\n",
       "<style scoped>\n",
       "    .dataframe tbody tr th:only-of-type {\n",
       "        vertical-align: middle;\n",
       "    }\n",
       "\n",
       "    .dataframe tbody tr th {\n",
       "        vertical-align: top;\n",
       "    }\n",
       "\n",
       "    .dataframe thead th {\n",
       "        text-align: right;\n",
       "    }\n",
       "</style>\n",
       "<table border=\"1\" class=\"dataframe\">\n",
       "  <thead>\n",
       "    <tr style=\"text-align: right;\">\n",
       "      <th></th>\n",
       "      <th>prod_cat_code</th>\n",
       "      <th>prod_cat</th>\n",
       "      <th>prod_sub_cat_code</th>\n",
       "      <th>prod_subcat</th>\n",
       "    </tr>\n",
       "  </thead>\n",
       "  <tbody>\n",
       "    <tr>\n",
       "      <th>0</th>\n",
       "      <td>1</td>\n",
       "      <td>Clothing</td>\n",
       "      <td>4</td>\n",
       "      <td>Mens</td>\n",
       "    </tr>\n",
       "    <tr>\n",
       "      <th>1</th>\n",
       "      <td>1</td>\n",
       "      <td>Clothing</td>\n",
       "      <td>1</td>\n",
       "      <td>Women</td>\n",
       "    </tr>\n",
       "    <tr>\n",
       "      <th>2</th>\n",
       "      <td>1</td>\n",
       "      <td>Clothing</td>\n",
       "      <td>3</td>\n",
       "      <td>Kids</td>\n",
       "    </tr>\n",
       "    <tr>\n",
       "      <th>3</th>\n",
       "      <td>2</td>\n",
       "      <td>Footwear</td>\n",
       "      <td>1</td>\n",
       "      <td>Mens</td>\n",
       "    </tr>\n",
       "    <tr>\n",
       "      <th>4</th>\n",
       "      <td>2</td>\n",
       "      <td>Footwear</td>\n",
       "      <td>3</td>\n",
       "      <td>Women</td>\n",
       "    </tr>\n",
       "  </tbody>\n",
       "</table>\n",
       "</div>"
      ],
      "text/plain": [
       "   prod_cat_code  prod_cat  prod_sub_cat_code prod_subcat\n",
       "0              1  Clothing                  4        Mens\n",
       "1              1  Clothing                  1       Women\n",
       "2              1  Clothing                  3        Kids\n",
       "3              2  Footwear                  1        Mens\n",
       "4              2  Footwear                  3       Women"
      ]
     },
     "execution_count": 53,
     "metadata": {},
     "output_type": "execute_result"
    }
   ],
   "source": [
    "product.head()"
   ]
  },
  {
   "cell_type": "code",
   "execution_count": 653,
   "id": "99e43066-79a6-49ad-905c-6dd4ec6969e5",
   "metadata": {},
   "outputs": [],
   "source": [
    "cust_trans = pd.merge(customer, transactions, left_on='customer_Id',right_on='cust_id', how='inner' )\n",
    "Customer_Final = pd.merge(cust_trans, product, left_on=['prod_cat_code','prod_subcat_code'],right_on=['prod_cat_code','prod_sub_cat_code'],how='inner')"
   ]
  },
  {
   "cell_type": "code",
   "execution_count": 315,
   "id": "c15cfcc2-428b-4303-8772-345a2aa50dfd",
   "metadata": {},
   "outputs": [
    {
     "data": {
      "text/html": [
       "<div>\n",
       "<style scoped>\n",
       "    .dataframe tbody tr th:only-of-type {\n",
       "        vertical-align: middle;\n",
       "    }\n",
       "\n",
       "    .dataframe tbody tr th {\n",
       "        vertical-align: top;\n",
       "    }\n",
       "\n",
       "    .dataframe thead th {\n",
       "        text-align: right;\n",
       "    }\n",
       "</style>\n",
       "<table border=\"1\" class=\"dataframe\">\n",
       "  <thead>\n",
       "    <tr style=\"text-align: right;\">\n",
       "      <th></th>\n",
       "      <th>customer_Id</th>\n",
       "      <th>DOB</th>\n",
       "      <th>Gender</th>\n",
       "      <th>city_code</th>\n",
       "      <th>transaction_id</th>\n",
       "      <th>cust_id</th>\n",
       "      <th>tran_date</th>\n",
       "      <th>prod_subcat_code</th>\n",
       "      <th>prod_cat_code</th>\n",
       "      <th>Qty</th>\n",
       "      <th>Rate</th>\n",
       "      <th>Tax</th>\n",
       "      <th>total_amt</th>\n",
       "      <th>Store_type</th>\n",
       "      <th>prod_cat</th>\n",
       "      <th>prod_sub_cat_code</th>\n",
       "      <th>prod_subcat</th>\n",
       "    </tr>\n",
       "  </thead>\n",
       "  <tbody>\n",
       "    <tr>\n",
       "      <th>0</th>\n",
       "      <td>268408</td>\n",
       "      <td>02-01-1970</td>\n",
       "      <td>M</td>\n",
       "      <td>4.0</td>\n",
       "      <td>87243835584</td>\n",
       "      <td>268408</td>\n",
       "      <td>13-01-2014</td>\n",
       "      <td>7</td>\n",
       "      <td>5</td>\n",
       "      <td>5</td>\n",
       "      <td>187</td>\n",
       "      <td>98.175</td>\n",
       "      <td>1033.175</td>\n",
       "      <td>TeleShop</td>\n",
       "      <td>Books</td>\n",
       "      <td>7</td>\n",
       "      <td>Fiction</td>\n",
       "    </tr>\n",
       "    <tr>\n",
       "      <th>1</th>\n",
       "      <td>275152</td>\n",
       "      <td>16-01-1970</td>\n",
       "      <td>M</td>\n",
       "      <td>4.0</td>\n",
       "      <td>73109425404</td>\n",
       "      <td>275152</td>\n",
       "      <td>25-03-2011</td>\n",
       "      <td>7</td>\n",
       "      <td>5</td>\n",
       "      <td>2</td>\n",
       "      <td>464</td>\n",
       "      <td>97.440</td>\n",
       "      <td>1025.440</td>\n",
       "      <td>e-Shop</td>\n",
       "      <td>Books</td>\n",
       "      <td>7</td>\n",
       "      <td>Fiction</td>\n",
       "    </tr>\n",
       "    <tr>\n",
       "      <th>2</th>\n",
       "      <td>275034</td>\n",
       "      <td>18-01-1970</td>\n",
       "      <td>F</td>\n",
       "      <td>4.0</td>\n",
       "      <td>64777271023</td>\n",
       "      <td>275034</td>\n",
       "      <td>23-05-2011</td>\n",
       "      <td>7</td>\n",
       "      <td>5</td>\n",
       "      <td>2</td>\n",
       "      <td>197</td>\n",
       "      <td>41.370</td>\n",
       "      <td>435.370</td>\n",
       "      <td>Flagship store</td>\n",
       "      <td>Books</td>\n",
       "      <td>7</td>\n",
       "      <td>Fiction</td>\n",
       "    </tr>\n",
       "    <tr>\n",
       "      <th>3</th>\n",
       "      <td>270829</td>\n",
       "      <td>22-01-1970</td>\n",
       "      <td>F</td>\n",
       "      <td>8.0</td>\n",
       "      <td>87174343938</td>\n",
       "      <td>270829</td>\n",
       "      <td>9/12/2013</td>\n",
       "      <td>7</td>\n",
       "      <td>5</td>\n",
       "      <td>4</td>\n",
       "      <td>1141</td>\n",
       "      <td>479.220</td>\n",
       "      <td>5043.220</td>\n",
       "      <td>e-Shop</td>\n",
       "      <td>Books</td>\n",
       "      <td>7</td>\n",
       "      <td>Fiction</td>\n",
       "    </tr>\n",
       "    <tr>\n",
       "      <th>4</th>\n",
       "      <td>267657</td>\n",
       "      <td>29-01-1970</td>\n",
       "      <td>F</td>\n",
       "      <td>7.0</td>\n",
       "      <td>76242744953</td>\n",
       "      <td>267657</td>\n",
       "      <td>23-05-2013</td>\n",
       "      <td>7</td>\n",
       "      <td>5</td>\n",
       "      <td>4</td>\n",
       "      <td>1020</td>\n",
       "      <td>428.400</td>\n",
       "      <td>4508.400</td>\n",
       "      <td>e-Shop</td>\n",
       "      <td>Books</td>\n",
       "      <td>7</td>\n",
       "      <td>Fiction</td>\n",
       "    </tr>\n",
       "  </tbody>\n",
       "</table>\n",
       "</div>"
      ],
      "text/plain": [
       "   customer_Id         DOB Gender  city_code  transaction_id  cust_id  \\\n",
       "0       268408  02-01-1970      M        4.0     87243835584   268408   \n",
       "1       275152  16-01-1970      M        4.0     73109425404   275152   \n",
       "2       275034  18-01-1970      F        4.0     64777271023   275034   \n",
       "3       270829  22-01-1970      F        8.0     87174343938   270829   \n",
       "4       267657  29-01-1970      F        7.0     76242744953   267657   \n",
       "\n",
       "    tran_date  prod_subcat_code  prod_cat_code  Qty  Rate      Tax  total_amt  \\\n",
       "0  13-01-2014                 7              5    5   187   98.175   1033.175   \n",
       "1  25-03-2011                 7              5    2   464   97.440   1025.440   \n",
       "2  23-05-2011                 7              5    2   197   41.370    435.370   \n",
       "3   9/12/2013                 7              5    4  1141  479.220   5043.220   \n",
       "4  23-05-2013                 7              5    4  1020  428.400   4508.400   \n",
       "\n",
       "       Store_type prod_cat  prod_sub_cat_code prod_subcat  \n",
       "0        TeleShop    Books                  7     Fiction  \n",
       "1          e-Shop    Books                  7     Fiction  \n",
       "2  Flagship store    Books                  7     Fiction  \n",
       "3          e-Shop    Books                  7     Fiction  \n",
       "4          e-Shop    Books                  7     Fiction  "
      ]
     },
     "execution_count": 315,
     "metadata": {},
     "output_type": "execute_result"
    }
   ],
   "source": [
    "Customer_Final.head()"
   ]
  },
  {
   "cell_type": "markdown",
   "id": "d1ccb333-ca70-4ec6-88de-8e33cc905e25",
   "metadata": {},
   "source": [
    "# 2. Prepare a summary report for the merged data set.\n",
    "#   a. Get the column names and their corresponding data typess"
   ]
  },
  {
   "cell_type": "code",
   "execution_count": 637,
   "id": "0ad2bc53-f660-402a-bc94-88200985c924",
   "metadata": {},
   "outputs": [
    {
     "name": "stdout",
     "output_type": "stream",
     "text": [
      "customer_Id            int64\n",
      "DOB                   object\n",
      "Gender                object\n",
      "city_code            float64\n",
      "transaction_id         int64\n",
      "cust_id                int64\n",
      "tran_date             object\n",
      "prod_subcat_code       int64\n",
      "prod_cat_code          int64\n",
      "Qty                    int64\n",
      "Rate                   int64\n",
      "Tax                  float64\n",
      "total_amt            float64\n",
      "Store_type            object\n",
      "prod_cat              object\n",
      "prod_sub_cat_code      int64\n",
      "prod_subcat           object\n",
      "dtype: object\n"
     ]
    }
   ],
   "source": [
    "column_info = Customer_Final.dtypes\n",
    "print(column_info)"
   ]
  },
  {
   "cell_type": "markdown",
   "id": "8db9f02a-3fc5-4430-b431-b9cf97428360",
   "metadata": {},
   "source": [
    "# b. Top/Bottom 10 observations"
   ]
  },
  {
   "cell_type": "code",
   "execution_count": 606,
   "id": "5d76824d-6d92-4a37-9185-554b3012d686",
   "metadata": {},
   "outputs": [
    {
     "data": {
      "text/html": [
       "<div>\n",
       "<style scoped>\n",
       "    .dataframe tbody tr th:only-of-type {\n",
       "        vertical-align: middle;\n",
       "    }\n",
       "\n",
       "    .dataframe tbody tr th {\n",
       "        vertical-align: top;\n",
       "    }\n",
       "\n",
       "    .dataframe thead th {\n",
       "        text-align: right;\n",
       "    }\n",
       "</style>\n",
       "<table border=\"1\" class=\"dataframe\">\n",
       "  <thead>\n",
       "    <tr style=\"text-align: right;\">\n",
       "      <th></th>\n",
       "      <th>customer_Id</th>\n",
       "      <th>DOB</th>\n",
       "      <th>Gender</th>\n",
       "      <th>city_code</th>\n",
       "      <th>transaction_id</th>\n",
       "      <th>cust_id</th>\n",
       "      <th>tran_date</th>\n",
       "      <th>prod_subcat_code</th>\n",
       "      <th>prod_cat_code</th>\n",
       "      <th>Qty</th>\n",
       "      <th>Rate</th>\n",
       "      <th>Tax</th>\n",
       "      <th>total_amt</th>\n",
       "      <th>Store_type</th>\n",
       "      <th>prod_cat</th>\n",
       "      <th>prod_sub_cat_code</th>\n",
       "      <th>prod_subcat</th>\n",
       "      <th>Age</th>\n",
       "    </tr>\n",
       "  </thead>\n",
       "  <tbody>\n",
       "    <tr>\n",
       "      <th>0</th>\n",
       "      <td>268408</td>\n",
       "      <td>1970-01-02</td>\n",
       "      <td>M</td>\n",
       "      <td>4.0</td>\n",
       "      <td>87243835584</td>\n",
       "      <td>268408</td>\n",
       "      <td>2014-01-13</td>\n",
       "      <td>7</td>\n",
       "      <td>5</td>\n",
       "      <td>5</td>\n",
       "      <td>187</td>\n",
       "      <td>98.175</td>\n",
       "      <td>1033.175</td>\n",
       "      <td>TeleShop</td>\n",
       "      <td>Books</td>\n",
       "      <td>7</td>\n",
       "      <td>Fiction</td>\n",
       "      <td>54</td>\n",
       "    </tr>\n",
       "    <tr>\n",
       "      <th>1</th>\n",
       "      <td>275152</td>\n",
       "      <td>1970-01-16</td>\n",
       "      <td>M</td>\n",
       "      <td>4.0</td>\n",
       "      <td>73109425404</td>\n",
       "      <td>275152</td>\n",
       "      <td>2011-03-25</td>\n",
       "      <td>7</td>\n",
       "      <td>5</td>\n",
       "      <td>2</td>\n",
       "      <td>464</td>\n",
       "      <td>97.440</td>\n",
       "      <td>1025.440</td>\n",
       "      <td>e-Shop</td>\n",
       "      <td>Books</td>\n",
       "      <td>7</td>\n",
       "      <td>Fiction</td>\n",
       "      <td>54</td>\n",
       "    </tr>\n",
       "    <tr>\n",
       "      <th>2</th>\n",
       "      <td>275034</td>\n",
       "      <td>1970-01-18</td>\n",
       "      <td>F</td>\n",
       "      <td>4.0</td>\n",
       "      <td>64777271023</td>\n",
       "      <td>275034</td>\n",
       "      <td>2011-05-23</td>\n",
       "      <td>7</td>\n",
       "      <td>5</td>\n",
       "      <td>2</td>\n",
       "      <td>197</td>\n",
       "      <td>41.370</td>\n",
       "      <td>435.370</td>\n",
       "      <td>Flagship store</td>\n",
       "      <td>Books</td>\n",
       "      <td>7</td>\n",
       "      <td>Fiction</td>\n",
       "      <td>54</td>\n",
       "    </tr>\n",
       "    <tr>\n",
       "      <th>3</th>\n",
       "      <td>270829</td>\n",
       "      <td>1970-01-22</td>\n",
       "      <td>F</td>\n",
       "      <td>8.0</td>\n",
       "      <td>87174343938</td>\n",
       "      <td>270829</td>\n",
       "      <td>NaT</td>\n",
       "      <td>7</td>\n",
       "      <td>5</td>\n",
       "      <td>4</td>\n",
       "      <td>1141</td>\n",
       "      <td>479.220</td>\n",
       "      <td>5043.220</td>\n",
       "      <td>e-Shop</td>\n",
       "      <td>Books</td>\n",
       "      <td>7</td>\n",
       "      <td>Fiction</td>\n",
       "      <td>54</td>\n",
       "    </tr>\n",
       "    <tr>\n",
       "      <th>4</th>\n",
       "      <td>267657</td>\n",
       "      <td>1970-01-29</td>\n",
       "      <td>F</td>\n",
       "      <td>7.0</td>\n",
       "      <td>76242744953</td>\n",
       "      <td>267657</td>\n",
       "      <td>2013-05-23</td>\n",
       "      <td>7</td>\n",
       "      <td>5</td>\n",
       "      <td>4</td>\n",
       "      <td>1020</td>\n",
       "      <td>428.400</td>\n",
       "      <td>4508.400</td>\n",
       "      <td>e-Shop</td>\n",
       "      <td>Books</td>\n",
       "      <td>7</td>\n",
       "      <td>Fiction</td>\n",
       "      <td>54</td>\n",
       "    </tr>\n",
       "    <tr>\n",
       "      <th>5</th>\n",
       "      <td>274630</td>\n",
       "      <td>1970-02-01</td>\n",
       "      <td>M</td>\n",
       "      <td>4.0</td>\n",
       "      <td>78357345891</td>\n",
       "      <td>274630</td>\n",
       "      <td>NaT</td>\n",
       "      <td>7</td>\n",
       "      <td>5</td>\n",
       "      <td>1</td>\n",
       "      <td>646</td>\n",
       "      <td>67.830</td>\n",
       "      <td>713.830</td>\n",
       "      <td>TeleShop</td>\n",
       "      <td>Books</td>\n",
       "      <td>7</td>\n",
       "      <td>Fiction</td>\n",
       "      <td>54</td>\n",
       "    </tr>\n",
       "    <tr>\n",
       "      <th>6</th>\n",
       "      <td>273541</td>\n",
       "      <td>1970-02-01</td>\n",
       "      <td>M</td>\n",
       "      <td>4.0</td>\n",
       "      <td>23916816961</td>\n",
       "      <td>273541</td>\n",
       "      <td>NaT</td>\n",
       "      <td>7</td>\n",
       "      <td>5</td>\n",
       "      <td>4</td>\n",
       "      <td>410</td>\n",
       "      <td>172.200</td>\n",
       "      <td>1812.200</td>\n",
       "      <td>e-Shop</td>\n",
       "      <td>Books</td>\n",
       "      <td>7</td>\n",
       "      <td>Fiction</td>\n",
       "      <td>54</td>\n",
       "    </tr>\n",
       "    <tr>\n",
       "      <th>7</th>\n",
       "      <td>269008</td>\n",
       "      <td>1970-02-13</td>\n",
       "      <td>F</td>\n",
       "      <td>6.0</td>\n",
       "      <td>35560569829</td>\n",
       "      <td>269008</td>\n",
       "      <td>NaT</td>\n",
       "      <td>7</td>\n",
       "      <td>5</td>\n",
       "      <td>1</td>\n",
       "      <td>1441</td>\n",
       "      <td>151.305</td>\n",
       "      <td>1592.305</td>\n",
       "      <td>e-Shop</td>\n",
       "      <td>Books</td>\n",
       "      <td>7</td>\n",
       "      <td>Fiction</td>\n",
       "      <td>54</td>\n",
       "    </tr>\n",
       "    <tr>\n",
       "      <th>8</th>\n",
       "      <td>269008</td>\n",
       "      <td>1970-02-13</td>\n",
       "      <td>F</td>\n",
       "      <td>6.0</td>\n",
       "      <td>94033312891</td>\n",
       "      <td>269008</td>\n",
       "      <td>2012-04-26</td>\n",
       "      <td>7</td>\n",
       "      <td>5</td>\n",
       "      <td>5</td>\n",
       "      <td>746</td>\n",
       "      <td>391.650</td>\n",
       "      <td>4121.650</td>\n",
       "      <td>MBR</td>\n",
       "      <td>Books</td>\n",
       "      <td>7</td>\n",
       "      <td>Fiction</td>\n",
       "      <td>54</td>\n",
       "    </tr>\n",
       "    <tr>\n",
       "      <th>9</th>\n",
       "      <td>267199</td>\n",
       "      <td>1970-02-14</td>\n",
       "      <td>NaN</td>\n",
       "      <td>2.0</td>\n",
       "      <td>56749259881</td>\n",
       "      <td>267199</td>\n",
       "      <td>NaT</td>\n",
       "      <td>7</td>\n",
       "      <td>5</td>\n",
       "      <td>4</td>\n",
       "      <td>1049</td>\n",
       "      <td>440.580</td>\n",
       "      <td>4636.580</td>\n",
       "      <td>MBR</td>\n",
       "      <td>Books</td>\n",
       "      <td>7</td>\n",
       "      <td>Fiction</td>\n",
       "      <td>54</td>\n",
       "    </tr>\n",
       "  </tbody>\n",
       "</table>\n",
       "</div>"
      ],
      "text/plain": [
       "   customer_Id        DOB Gender  city_code  transaction_id  cust_id  \\\n",
       "0       268408 1970-01-02      M        4.0     87243835584   268408   \n",
       "1       275152 1970-01-16      M        4.0     73109425404   275152   \n",
       "2       275034 1970-01-18      F        4.0     64777271023   275034   \n",
       "3       270829 1970-01-22      F        8.0     87174343938   270829   \n",
       "4       267657 1970-01-29      F        7.0     76242744953   267657   \n",
       "5       274630 1970-02-01      M        4.0     78357345891   274630   \n",
       "6       273541 1970-02-01      M        4.0     23916816961   273541   \n",
       "7       269008 1970-02-13      F        6.0     35560569829   269008   \n",
       "8       269008 1970-02-13      F        6.0     94033312891   269008   \n",
       "9       267199 1970-02-14    NaN        2.0     56749259881   267199   \n",
       "\n",
       "   tran_date  prod_subcat_code  prod_cat_code  Qty  Rate      Tax  total_amt  \\\n",
       "0 2014-01-13                 7              5    5   187   98.175   1033.175   \n",
       "1 2011-03-25                 7              5    2   464   97.440   1025.440   \n",
       "2 2011-05-23                 7              5    2   197   41.370    435.370   \n",
       "3        NaT                 7              5    4  1141  479.220   5043.220   \n",
       "4 2013-05-23                 7              5    4  1020  428.400   4508.400   \n",
       "5        NaT                 7              5    1   646   67.830    713.830   \n",
       "6        NaT                 7              5    4   410  172.200   1812.200   \n",
       "7        NaT                 7              5    1  1441  151.305   1592.305   \n",
       "8 2012-04-26                 7              5    5   746  391.650   4121.650   \n",
       "9        NaT                 7              5    4  1049  440.580   4636.580   \n",
       "\n",
       "       Store_type prod_cat  prod_sub_cat_code prod_subcat  Age  \n",
       "0        TeleShop    Books                  7     Fiction   54  \n",
       "1          e-Shop    Books                  7     Fiction   54  \n",
       "2  Flagship store    Books                  7     Fiction   54  \n",
       "3          e-Shop    Books                  7     Fiction   54  \n",
       "4          e-Shop    Books                  7     Fiction   54  \n",
       "5        TeleShop    Books                  7     Fiction   54  \n",
       "6          e-Shop    Books                  7     Fiction   54  \n",
       "7          e-Shop    Books                  7     Fiction   54  \n",
       "8             MBR    Books                  7     Fiction   54  \n",
       "9             MBR    Books                  7     Fiction   54  "
      ]
     },
     "execution_count": 606,
     "metadata": {},
     "output_type": "execute_result"
    }
   ],
   "source": [
    "Customer_Final.head(10)"
   ]
  },
  {
   "cell_type": "code",
   "execution_count": 327,
   "id": "15714814-b985-4e93-93c4-df9002d4755b",
   "metadata": {},
   "outputs": [
    {
     "data": {
      "text/html": [
       "<div>\n",
       "<style scoped>\n",
       "    .dataframe tbody tr th:only-of-type {\n",
       "        vertical-align: middle;\n",
       "    }\n",
       "\n",
       "    .dataframe tbody tr th {\n",
       "        vertical-align: top;\n",
       "    }\n",
       "\n",
       "    .dataframe thead th {\n",
       "        text-align: right;\n",
       "    }\n",
       "</style>\n",
       "<table border=\"1\" class=\"dataframe\">\n",
       "  <thead>\n",
       "    <tr style=\"text-align: right;\">\n",
       "      <th></th>\n",
       "      <th>customer_Id</th>\n",
       "      <th>DOB</th>\n",
       "      <th>Gender</th>\n",
       "      <th>city_code</th>\n",
       "      <th>transaction_id</th>\n",
       "      <th>cust_id</th>\n",
       "      <th>tran_date</th>\n",
       "      <th>prod_subcat_code</th>\n",
       "      <th>prod_cat_code</th>\n",
       "      <th>Qty</th>\n",
       "      <th>Rate</th>\n",
       "      <th>Tax</th>\n",
       "      <th>total_amt</th>\n",
       "      <th>Store_type</th>\n",
       "      <th>prod_cat</th>\n",
       "      <th>prod_sub_cat_code</th>\n",
       "      <th>prod_subcat</th>\n",
       "    </tr>\n",
       "  </thead>\n",
       "  <tbody>\n",
       "    <tr>\n",
       "      <th>23043</th>\n",
       "      <td>268914</td>\n",
       "      <td>15-11-1992</td>\n",
       "      <td>F</td>\n",
       "      <td>3.0</td>\n",
       "      <td>1407823655</td>\n",
       "      <td>268914</td>\n",
       "      <td>10/6/2011</td>\n",
       "      <td>10</td>\n",
       "      <td>5</td>\n",
       "      <td>1</td>\n",
       "      <td>1252</td>\n",
       "      <td>131.460</td>\n",
       "      <td>1383.460</td>\n",
       "      <td>MBR</td>\n",
       "      <td>Books</td>\n",
       "      <td>10</td>\n",
       "      <td>Non-Fiction</td>\n",
       "    </tr>\n",
       "    <tr>\n",
       "      <th>23044</th>\n",
       "      <td>269519</td>\n",
       "      <td>17-11-1992</td>\n",
       "      <td>M</td>\n",
       "      <td>9.0</td>\n",
       "      <td>29719500605</td>\n",
       "      <td>269519</td>\n",
       "      <td>24-12-2013</td>\n",
       "      <td>10</td>\n",
       "      <td>5</td>\n",
       "      <td>4</td>\n",
       "      <td>1036</td>\n",
       "      <td>435.120</td>\n",
       "      <td>4579.120</td>\n",
       "      <td>TeleShop</td>\n",
       "      <td>Books</td>\n",
       "      <td>10</td>\n",
       "      <td>Non-Fiction</td>\n",
       "    </tr>\n",
       "    <tr>\n",
       "      <th>23045</th>\n",
       "      <td>273524</td>\n",
       "      <td>25-11-1992</td>\n",
       "      <td>F</td>\n",
       "      <td>1.0</td>\n",
       "      <td>25762805863</td>\n",
       "      <td>273524</td>\n",
       "      <td>19-11-2012</td>\n",
       "      <td>10</td>\n",
       "      <td>5</td>\n",
       "      <td>1</td>\n",
       "      <td>1401</td>\n",
       "      <td>147.105</td>\n",
       "      <td>1548.105</td>\n",
       "      <td>Flagship store</td>\n",
       "      <td>Books</td>\n",
       "      <td>10</td>\n",
       "      <td>Non-Fiction</td>\n",
       "    </tr>\n",
       "    <tr>\n",
       "      <th>23046</th>\n",
       "      <td>272141</td>\n",
       "      <td>02-12-1992</td>\n",
       "      <td>F</td>\n",
       "      <td>10.0</td>\n",
       "      <td>71337087467</td>\n",
       "      <td>272141</td>\n",
       "      <td>22-07-2012</td>\n",
       "      <td>10</td>\n",
       "      <td>5</td>\n",
       "      <td>-3</td>\n",
       "      <td>-1422</td>\n",
       "      <td>447.930</td>\n",
       "      <td>-4713.930</td>\n",
       "      <td>e-Shop</td>\n",
       "      <td>Books</td>\n",
       "      <td>10</td>\n",
       "      <td>Non-Fiction</td>\n",
       "    </tr>\n",
       "    <tr>\n",
       "      <th>23047</th>\n",
       "      <td>272141</td>\n",
       "      <td>02-12-1992</td>\n",
       "      <td>F</td>\n",
       "      <td>10.0</td>\n",
       "      <td>71337087467</td>\n",
       "      <td>272141</td>\n",
       "      <td>16-07-2012</td>\n",
       "      <td>10</td>\n",
       "      <td>5</td>\n",
       "      <td>3</td>\n",
       "      <td>1422</td>\n",
       "      <td>447.930</td>\n",
       "      <td>4713.930</td>\n",
       "      <td>e-Shop</td>\n",
       "      <td>Books</td>\n",
       "      <td>10</td>\n",
       "      <td>Non-Fiction</td>\n",
       "    </tr>\n",
       "    <tr>\n",
       "      <th>23048</th>\n",
       "      <td>267812</td>\n",
       "      <td>04-12-1992</td>\n",
       "      <td>F</td>\n",
       "      <td>1.0</td>\n",
       "      <td>63540378797</td>\n",
       "      <td>267812</td>\n",
       "      <td>10/10/2012</td>\n",
       "      <td>10</td>\n",
       "      <td>5</td>\n",
       "      <td>3</td>\n",
       "      <td>224</td>\n",
       "      <td>70.560</td>\n",
       "      <td>742.560</td>\n",
       "      <td>TeleShop</td>\n",
       "      <td>Books</td>\n",
       "      <td>10</td>\n",
       "      <td>Non-Fiction</td>\n",
       "    </tr>\n",
       "    <tr>\n",
       "      <th>23049</th>\n",
       "      <td>274618</td>\n",
       "      <td>09-12-1992</td>\n",
       "      <td>F</td>\n",
       "      <td>7.0</td>\n",
       "      <td>71793203305</td>\n",
       "      <td>274618</td>\n",
       "      <td>17-08-2013</td>\n",
       "      <td>10</td>\n",
       "      <td>5</td>\n",
       "      <td>4</td>\n",
       "      <td>691</td>\n",
       "      <td>290.220</td>\n",
       "      <td>3054.220</td>\n",
       "      <td>Flagship store</td>\n",
       "      <td>Books</td>\n",
       "      <td>10</td>\n",
       "      <td>Non-Fiction</td>\n",
       "    </tr>\n",
       "    <tr>\n",
       "      <th>23050</th>\n",
       "      <td>268097</td>\n",
       "      <td>15-12-1992</td>\n",
       "      <td>F</td>\n",
       "      <td>7.0</td>\n",
       "      <td>91217108818</td>\n",
       "      <td>268097</td>\n",
       "      <td>1/2/2012</td>\n",
       "      <td>10</td>\n",
       "      <td>5</td>\n",
       "      <td>2</td>\n",
       "      <td>411</td>\n",
       "      <td>86.310</td>\n",
       "      <td>908.310</td>\n",
       "      <td>e-Shop</td>\n",
       "      <td>Books</td>\n",
       "      <td>10</td>\n",
       "      <td>Non-Fiction</td>\n",
       "    </tr>\n",
       "    <tr>\n",
       "      <th>23051</th>\n",
       "      <td>268097</td>\n",
       "      <td>15-12-1992</td>\n",
       "      <td>F</td>\n",
       "      <td>7.0</td>\n",
       "      <td>90114483354</td>\n",
       "      <td>268097</td>\n",
       "      <td>31-01-2011</td>\n",
       "      <td>10</td>\n",
       "      <td>5</td>\n",
       "      <td>-4</td>\n",
       "      <td>-1408</td>\n",
       "      <td>591.360</td>\n",
       "      <td>-6223.360</td>\n",
       "      <td>e-Shop</td>\n",
       "      <td>Books</td>\n",
       "      <td>10</td>\n",
       "      <td>Non-Fiction</td>\n",
       "    </tr>\n",
       "    <tr>\n",
       "      <th>23052</th>\n",
       "      <td>268097</td>\n",
       "      <td>15-12-1992</td>\n",
       "      <td>F</td>\n",
       "      <td>7.0</td>\n",
       "      <td>90114483354</td>\n",
       "      <td>268097</td>\n",
       "      <td>26-01-2011</td>\n",
       "      <td>10</td>\n",
       "      <td>5</td>\n",
       "      <td>4</td>\n",
       "      <td>1408</td>\n",
       "      <td>591.360</td>\n",
       "      <td>6223.360</td>\n",
       "      <td>e-Shop</td>\n",
       "      <td>Books</td>\n",
       "      <td>10</td>\n",
       "      <td>Non-Fiction</td>\n",
       "    </tr>\n",
       "  </tbody>\n",
       "</table>\n",
       "</div>"
      ],
      "text/plain": [
       "       customer_Id         DOB Gender  city_code  transaction_id  cust_id  \\\n",
       "23043       268914  15-11-1992      F        3.0      1407823655   268914   \n",
       "23044       269519  17-11-1992      M        9.0     29719500605   269519   \n",
       "23045       273524  25-11-1992      F        1.0     25762805863   273524   \n",
       "23046       272141  02-12-1992      F       10.0     71337087467   272141   \n",
       "23047       272141  02-12-1992      F       10.0     71337087467   272141   \n",
       "23048       267812  04-12-1992      F        1.0     63540378797   267812   \n",
       "23049       274618  09-12-1992      F        7.0     71793203305   274618   \n",
       "23050       268097  15-12-1992      F        7.0     91217108818   268097   \n",
       "23051       268097  15-12-1992      F        7.0     90114483354   268097   \n",
       "23052       268097  15-12-1992      F        7.0     90114483354   268097   \n",
       "\n",
       "        tran_date  prod_subcat_code  prod_cat_code  Qty  Rate      Tax  \\\n",
       "23043   10/6/2011                10              5    1  1252  131.460   \n",
       "23044  24-12-2013                10              5    4  1036  435.120   \n",
       "23045  19-11-2012                10              5    1  1401  147.105   \n",
       "23046  22-07-2012                10              5   -3 -1422  447.930   \n",
       "23047  16-07-2012                10              5    3  1422  447.930   \n",
       "23048  10/10/2012                10              5    3   224   70.560   \n",
       "23049  17-08-2013                10              5    4   691  290.220   \n",
       "23050    1/2/2012                10              5    2   411   86.310   \n",
       "23051  31-01-2011                10              5   -4 -1408  591.360   \n",
       "23052  26-01-2011                10              5    4  1408  591.360   \n",
       "\n",
       "       total_amt      Store_type prod_cat  prod_sub_cat_code  prod_subcat  \n",
       "23043   1383.460             MBR    Books                 10  Non-Fiction  \n",
       "23044   4579.120        TeleShop    Books                 10  Non-Fiction  \n",
       "23045   1548.105  Flagship store    Books                 10  Non-Fiction  \n",
       "23046  -4713.930          e-Shop    Books                 10  Non-Fiction  \n",
       "23047   4713.930          e-Shop    Books                 10  Non-Fiction  \n",
       "23048    742.560        TeleShop    Books                 10  Non-Fiction  \n",
       "23049   3054.220  Flagship store    Books                 10  Non-Fiction  \n",
       "23050    908.310          e-Shop    Books                 10  Non-Fiction  \n",
       "23051  -6223.360          e-Shop    Books                 10  Non-Fiction  \n",
       "23052   6223.360          e-Shop    Books                 10  Non-Fiction  "
      ]
     },
     "execution_count": 327,
     "metadata": {},
     "output_type": "execute_result"
    }
   ],
   "source": [
    "Customer_Final.tail(10)"
   ]
  },
  {
   "cell_type": "markdown",
   "id": "3f16fefd-de71-49df-a4f8-d78f55c3a6f3",
   "metadata": {},
   "source": [
    "# c. “Five-number summary” for continuous variables (min, Q1, median, Q3 and max)`"
   ]
  },
  {
   "cell_type": "code",
   "execution_count": 368,
   "id": "6de4cd57-f4c6-4c22-bb2a-b14cbeb16f75",
   "metadata": {},
   "outputs": [
    {
     "data": {
      "text/html": [
       "<div>\n",
       "<style scoped>\n",
       "    .dataframe tbody tr th:only-of-type {\n",
       "        vertical-align: middle;\n",
       "    }\n",
       "\n",
       "    .dataframe tbody tr th {\n",
       "        vertical-align: top;\n",
       "    }\n",
       "\n",
       "    .dataframe thead th {\n",
       "        text-align: right;\n",
       "    }\n",
       "</style>\n",
       "<table border=\"1\" class=\"dataframe\">\n",
       "  <thead>\n",
       "    <tr style=\"text-align: right;\">\n",
       "      <th></th>\n",
       "      <th>min</th>\n",
       "      <th>25%</th>\n",
       "      <th>50%</th>\n",
       "      <th>75%</th>\n",
       "      <th>max</th>\n",
       "    </tr>\n",
       "  </thead>\n",
       "  <tbody>\n",
       "    <tr>\n",
       "      <th>customer_Id</th>\n",
       "      <td>266783.000</td>\n",
       "      <td>2.689350e+05</td>\n",
       "      <td>2.709800e+05</td>\n",
       "      <td>2.731140e+05</td>\n",
       "      <td>2.752650e+05</td>\n",
       "    </tr>\n",
       "    <tr>\n",
       "      <th>city_code</th>\n",
       "      <td>1.000</td>\n",
       "      <td>3.000000e+00</td>\n",
       "      <td>5.000000e+00</td>\n",
       "      <td>8.000000e+00</td>\n",
       "      <td>1.000000e+01</td>\n",
       "    </tr>\n",
       "    <tr>\n",
       "      <th>transaction_id</th>\n",
       "      <td>3268991.000</td>\n",
       "      <td>2.493864e+10</td>\n",
       "      <td>5.009313e+10</td>\n",
       "      <td>7.533000e+10</td>\n",
       "      <td>9.998755e+10</td>\n",
       "    </tr>\n",
       "    <tr>\n",
       "      <th>cust_id</th>\n",
       "      <td>266783.000</td>\n",
       "      <td>2.689350e+05</td>\n",
       "      <td>2.709800e+05</td>\n",
       "      <td>2.731140e+05</td>\n",
       "      <td>2.752650e+05</td>\n",
       "    </tr>\n",
       "    <tr>\n",
       "      <th>prod_subcat_code</th>\n",
       "      <td>1.000</td>\n",
       "      <td>3.000000e+00</td>\n",
       "      <td>5.000000e+00</td>\n",
       "      <td>1.000000e+01</td>\n",
       "      <td>1.200000e+01</td>\n",
       "    </tr>\n",
       "    <tr>\n",
       "      <th>prod_cat_code</th>\n",
       "      <td>1.000</td>\n",
       "      <td>2.000000e+00</td>\n",
       "      <td>4.000000e+00</td>\n",
       "      <td>5.000000e+00</td>\n",
       "      <td>6.000000e+00</td>\n",
       "    </tr>\n",
       "    <tr>\n",
       "      <th>Qty</th>\n",
       "      <td>-5.000</td>\n",
       "      <td>1.000000e+00</td>\n",
       "      <td>3.000000e+00</td>\n",
       "      <td>4.000000e+00</td>\n",
       "      <td>5.000000e+00</td>\n",
       "    </tr>\n",
       "    <tr>\n",
       "      <th>Rate</th>\n",
       "      <td>-1499.000</td>\n",
       "      <td>3.120000e+02</td>\n",
       "      <td>7.100000e+02</td>\n",
       "      <td>1.109000e+03</td>\n",
       "      <td>1.500000e+03</td>\n",
       "    </tr>\n",
       "    <tr>\n",
       "      <th>Tax</th>\n",
       "      <td>7.350</td>\n",
       "      <td>9.828000e+01</td>\n",
       "      <td>1.990800e+02</td>\n",
       "      <td>3.657150e+02</td>\n",
       "      <td>7.875000e+02</td>\n",
       "    </tr>\n",
       "    <tr>\n",
       "      <th>total_amt</th>\n",
       "      <td>-8270.925</td>\n",
       "      <td>7.624500e+02</td>\n",
       "      <td>1.754740e+03</td>\n",
       "      <td>3.569150e+03</td>\n",
       "      <td>8.287500e+03</td>\n",
       "    </tr>\n",
       "    <tr>\n",
       "      <th>prod_sub_cat_code</th>\n",
       "      <td>1.000</td>\n",
       "      <td>3.000000e+00</td>\n",
       "      <td>5.000000e+00</td>\n",
       "      <td>1.000000e+01</td>\n",
       "      <td>1.200000e+01</td>\n",
       "    </tr>\n",
       "  </tbody>\n",
       "</table>\n",
       "</div>"
      ],
      "text/plain": [
       "                           min           25%           50%           75%  \\\n",
       "customer_Id         266783.000  2.689350e+05  2.709800e+05  2.731140e+05   \n",
       "city_code                1.000  3.000000e+00  5.000000e+00  8.000000e+00   \n",
       "transaction_id     3268991.000  2.493864e+10  5.009313e+10  7.533000e+10   \n",
       "cust_id             266783.000  2.689350e+05  2.709800e+05  2.731140e+05   \n",
       "prod_subcat_code         1.000  3.000000e+00  5.000000e+00  1.000000e+01   \n",
       "prod_cat_code            1.000  2.000000e+00  4.000000e+00  5.000000e+00   \n",
       "Qty                     -5.000  1.000000e+00  3.000000e+00  4.000000e+00   \n",
       "Rate                 -1499.000  3.120000e+02  7.100000e+02  1.109000e+03   \n",
       "Tax                      7.350  9.828000e+01  1.990800e+02  3.657150e+02   \n",
       "total_amt            -8270.925  7.624500e+02  1.754740e+03  3.569150e+03   \n",
       "prod_sub_cat_code        1.000  3.000000e+00  5.000000e+00  1.000000e+01   \n",
       "\n",
       "                            max  \n",
       "customer_Id        2.752650e+05  \n",
       "city_code          1.000000e+01  \n",
       "transaction_id     9.998755e+10  \n",
       "cust_id            2.752650e+05  \n",
       "prod_subcat_code   1.200000e+01  \n",
       "prod_cat_code      6.000000e+00  \n",
       "Qty                5.000000e+00  \n",
       "Rate               1.500000e+03  \n",
       "Tax                7.875000e+02  \n",
       "total_amt          8.287500e+03  \n",
       "prod_sub_cat_code  1.200000e+01  "
      ]
     },
     "execution_count": 368,
     "metadata": {},
     "output_type": "execute_result"
    }
   ],
   "source": [
    "numerical_cols = Customer_Final.select_dtypes(include=['number'])\n",
    "numerical_cols.describe().T.loc[:, ['min', '25%', '50%', '75%', 'max']]"
   ]
  },
  {
   "cell_type": "markdown",
   "id": "3cf237e1-fb9d-4c37-8d8a-ef16c0678da9",
   "metadata": {},
   "source": [
    "# d. Frequency tables for all the categorical variables"
   ]
  },
  {
   "cell_type": "code",
   "execution_count": 370,
   "id": "5f02d4f8-7b5e-4208-847f-5a238238e58a",
   "metadata": {},
   "outputs": [
    {
     "name": "stdout",
     "output_type": "stream",
     "text": [
      "Gender\n",
      "M    11811\n",
      "F    11233\n",
      "Name: count, dtype: int64\n",
      "Store_type\n",
      "e-Shop            9311\n",
      "MBR               4661\n",
      "Flagship store    4577\n",
      "TeleShop          4504\n",
      "Name: count, dtype: int64\n",
      "prod_cat\n",
      "Books               6069\n",
      "Electronics         4898\n",
      "Home and kitchen    4129\n",
      "Footwear            2999\n",
      "Clothing            2960\n",
      "Bags                1998\n",
      "Name: count, dtype: int64\n",
      "prod_subcat\n",
      "Women                  3048\n",
      "Mens                   2912\n",
      "Kids                   1997\n",
      "Tools                  1062\n",
      "Fiction                1043\n",
      "Kitchen                1037\n",
      "Children               1035\n",
      "Comics                 1031\n",
      "Mobiles                1031\n",
      "Bath                   1023\n",
      "Furnishing             1007\n",
      "Non-Fiction            1004\n",
      "DIY                     989\n",
      "Cameras                 985\n",
      "Personal Appliances     972\n",
      "Academic                967\n",
      "Computers               958\n",
      "Audio and video         952\n",
      "Name: count, dtype: int64\n"
     ]
    }
   ],
   "source": [
    "categorical_cols = Customer_Final.select_dtypes(include=['object'])\n",
    "for col in categorical_cols:\n",
    "    print(Customer_Final[col].value_counts())"
   ]
  },
  {
   "cell_type": "markdown",
   "id": "a5d56249-bcba-4116-8f96-dc15f196b1be",
   "metadata": {},
   "source": [
    "# 3. Generate histograms for all continuous variables and frequency bars for categorical variables"
   ]
  },
  {
   "cell_type": "code",
   "execution_count": 372,
   "id": "3fe6b713-aa42-4f7f-afde-e7287b2aade0",
   "metadata": {},
   "outputs": [],
   "source": [
    "plt.style.use('seaborn-v0_8')"
   ]
  },
  {
   "cell_type": "code",
   "execution_count": 374,
   "id": "a9d0ea1c-e132-426f-a86a-4efa986a955a",
   "metadata": {},
   "outputs": [
    {
     "data": {
      "image/png": "[encoded data removed]",
      "text/plain": [
       "<Figure size 600x400 with 1 Axes>"
      ]
     },
     "metadata": {},
     "output_type": "display_data"
    },
    {
     "data": {
      "image/png": "[encoded data removed]",
      "text/plain": [
       "<Figure size 600x400 with 1 Axes>"
      ]
     },
     "metadata": {},
     "output_type": "display_data"
    },
    {
     "data": {
      "image/png": "[encoded data removed]",
      "text/plain": [
       "<Figure size 600x400 with 1 Axes>"
      ]
     },
     "metadata": {},
     "output_type": "display_data"
    },
    {
     "data": {
      "image/png": "[encoded data removed]",
      "text/plain": [
       "<Figure size 600x400 with 1 Axes>"
      ]
     },
     "metadata": {},
     "output_type": "display_data"
    },
    {
     "data": {
      "image/png": "[encoded data removed]",
      "text/plain": [
       "<Figure size 600x400 with 1 Axes>"
      ]
     },
     "metadata": {},
     "output_type": "display_data"
    },
    {
     "data": {
      "image/png": "[encoded data removed]",
      "text/plain": [
       "<Figure size 600x400 with 1 Axes>"
      ]
     },
     "metadata": {},
     "output_type": "display_data"
    },
    {
     "data": {
      "image/png": "[encoded data removed]",
      "text/plain": [
       "<Figure size 600x400 with 1 Axes>"
      ]
     },
     "metadata": {},
     "output_type": "display_data"
    },
    {
     "data": {
      "image/png": "[encoded data removed]",
      "text/plain": [
       "<Figure size 600x400 with 1 Axes>"
      ]
     },
     "metadata": {},
     "output_type": "display_data"
    },
    {
     "data": {
      "image/png": "[encoded data removed]",
      "text/plain": [
       "<Figure size 600x400 with 1 Axes>"
      ]
     },
     "metadata": {},
     "output_type": "display_data"
    },
    {
     "data": {
      "image/png": "[encoded data removed]",
      "text/plain": [
       "<Figure size 600x400 with 1 Axes>"
      ]
     },
     "metadata": {},
     "output_type": "display_data"
    },
    {
     "data": {
      "image/png": "[encoded data removed]",
      "text/plain": [
       "<Figure size 600x400 with 1 Axes>"
      ]
     },
     "metadata": {},
     "output_type": "display_data"
    }
   ],
   "source": [
    "for col in numerical_cols:\n",
    "    plt.figure(figsize=(6, 4))\n",
    "    Customer_Final[col].plot(kind='hist')\n",
    "    plt.title(f'Histogram for {col}')\n",
    "    plt.xlabel(col)\n",
    "    plt.ylabel('Frequency')\n",
    "    plt.show()"
   ]
  },
  {
   "cell_type": "code",
   "execution_count": 376,
   "id": "bea42992-82a3-4b7c-9a2b-3fdbfc72dc56",
   "metadata": {},
   "outputs": [
    {
     "data": {
      "image/png": "[encoded data removed]",
      "text/plain": [
       "<Figure size 600x400 with 1 Axes>"
      ]
     },
     "metadata": {},
     "output_type": "display_data"
    },
    {
     "data": {
      "image/png": "[encoded data removed]",
      "text/plain": [
       "<Figure size 600x400 with 1 Axes>"
      ]
     },
     "metadata": {},
     "output_type": "display_data"
    },
    {
     "data": {
      "image/png": "[encoded data removed]",
      "text/plain": [
       "<Figure size 600x400 with 1 Axes>"
      ]
     },
     "metadata": {},
     "output_type": "display_data"
    },
    {
     "data": {
      "image/png": "[encoded data removed]",
      "text/plain": [
       "<Figure size 600x400 with 1 Axes>"
      ]
     },
     "metadata": {},
     "output_type": "display_data"
    }
   ],
   "source": [
    "for col in categorical_cols:\n",
    "    plt.figure(figsize=(6, 4))\n",
    "    Customer_Final[col].value_counts().plot(kind='bar')\n",
    "    plt.title(f'Bar Plot for {col}')\n",
    "    plt.xlabel(col)\n",
    "    plt.ylabel('Frequency')\n",
    "    plt.show();"
   ]
  },
  {
   "cell_type": "markdown",
   "id": "7ee47bec-63b5-4baa-91be-1d3d25d096d2",
   "metadata": {},
   "source": [
    "# 4. Calculate the following information using the merged dataset :\n",
    "#    a. Time period of the available transaction data"
   ]
  },
  {
   "cell_type": "code",
   "execution_count": 364,
   "id": "66660e33-d8a6-4ced-8411-373701a4cec8",
   "metadata": {},
   "outputs": [],
   "source": [
    "# changing tran_date column to datetime data type\n",
    "Customer_Final['tran_date'] = pd.to_datetime(Customer_Final['tran_date'], errors='coerce', dayfirst=True)"
   ]
  },
  {
   "cell_type": "code",
   "execution_count": 378,
   "id": "e5702073-9041-40cf-a557-f6d3644877d8",
   "metadata": {},
   "outputs": [
    {
     "name": "stdout",
     "output_type": "stream",
     "text": [
      "1130 days 00:00:00\n"
     ]
    }
   ],
   "source": [
    "start_date = Customer_Final['tran_date'].min()\n",
    "end_date   = Customer_Final['tran_date'].max()\n",
    "Time_period= end_date-start_date\n",
    "print(Time_period)"
   ]
  },
  {
   "cell_type": "markdown",
   "id": "c143cd95-7ff8-4c70-bd22-334420c2d1a9",
   "metadata": {},
   "source": [
    "#  b. Count of transactions where the total amount of transaction was negative"
   ]
  },
  {
   "cell_type": "code",
   "execution_count": 542,
   "id": "0a7d6d80-9d6d-4092-a969-8b87c609b40f",
   "metadata": {},
   "outputs": [
    {
     "data": {
      "text/plain": [
       "2177"
      ]
     },
     "execution_count": 542,
     "metadata": {},
     "output_type": "execute_result"
    }
   ],
   "source": [
    "len(Customer_Final[Customer_Final['total_amt'] < 0])"
   ]
  },
  {
   "cell_type": "markdown",
   "id": "54c8ef05-7258-476e-bcfd-648fa96975dc",
   "metadata": {},
   "source": [
    "# 5. Analyze which product categories are more popular among females vs male customers."
   ]
  },
  {
   "cell_type": "code",
   "execution_count": 664,
   "id": "6fe31cf5-8ce1-41d2-abb2-ead802be6c4d",
   "metadata": {},
   "outputs": [
    {
     "data": {
      "text/html": [
       "<div>\n",
       "<style scoped>\n",
       "    .dataframe tbody tr th:only-of-type {\n",
       "        vertical-align: middle;\n",
       "    }\n",
       "\n",
       "    .dataframe tbody tr th {\n",
       "        vertical-align: top;\n",
       "    }\n",
       "\n",
       "    .dataframe thead th {\n",
       "        text-align: right;\n",
       "    }\n",
       "</style>\n",
       "<table border=\"1\" class=\"dataframe\">\n",
       "  <thead>\n",
       "    <tr style=\"text-align: right;\">\n",
       "      <th></th>\n",
       "      <th>prod_cat</th>\n",
       "      <th>Gender</th>\n",
       "      <th>Qty</th>\n",
       "    </tr>\n",
       "  </thead>\n",
       "  <tbody>\n",
       "    <tr>\n",
       "      <th>0</th>\n",
       "      <td>Bags</td>\n",
       "      <td>F</td>\n",
       "      <td>2362</td>\n",
       "    </tr>\n",
       "    <tr>\n",
       "      <th>1</th>\n",
       "      <td>Bags</td>\n",
       "      <td>M</td>\n",
       "      <td>2346</td>\n",
       "    </tr>\n",
       "    <tr>\n",
       "      <th>2</th>\n",
       "      <td>Books</td>\n",
       "      <td>F</td>\n",
       "      <td>7070</td>\n",
       "    </tr>\n",
       "    <tr>\n",
       "      <th>3</th>\n",
       "      <td>Books</td>\n",
       "      <td>M</td>\n",
       "      <td>7587</td>\n",
       "    </tr>\n",
       "    <tr>\n",
       "      <th>4</th>\n",
       "      <td>Clothing</td>\n",
       "      <td>F</td>\n",
       "      <td>3425</td>\n",
       "    </tr>\n",
       "    <tr>\n",
       "      <th>5</th>\n",
       "      <td>Clothing</td>\n",
       "      <td>M</td>\n",
       "      <td>3748</td>\n",
       "    </tr>\n",
       "    <tr>\n",
       "      <th>6</th>\n",
       "      <td>Electronics</td>\n",
       "      <td>F</td>\n",
       "      <td>5832</td>\n",
       "    </tr>\n",
       "    <tr>\n",
       "      <th>7</th>\n",
       "      <td>Electronics</td>\n",
       "      <td>M</td>\n",
       "      <td>6476</td>\n",
       "    </tr>\n",
       "    <tr>\n",
       "      <th>8</th>\n",
       "      <td>Footwear</td>\n",
       "      <td>F</td>\n",
       "      <td>3716</td>\n",
       "    </tr>\n",
       "    <tr>\n",
       "      <th>9</th>\n",
       "      <td>Footwear</td>\n",
       "      <td>M</td>\n",
       "      <td>3555</td>\n",
       "    </tr>\n",
       "    <tr>\n",
       "      <th>10</th>\n",
       "      <td>Home and kitchen</td>\n",
       "      <td>F</td>\n",
       "      <td>4895</td>\n",
       "    </tr>\n",
       "    <tr>\n",
       "      <th>11</th>\n",
       "      <td>Home and kitchen</td>\n",
       "      <td>M</td>\n",
       "      <td>5041</td>\n",
       "    </tr>\n",
       "  </tbody>\n",
       "</table>\n",
       "</div>"
      ],
      "text/plain": [
       "            prod_cat Gender   Qty\n",
       "0               Bags      F  2362\n",
       "1               Bags      M  2346\n",
       "2              Books      F  7070\n",
       "3              Books      M  7587\n",
       "4           Clothing      F  3425\n",
       "5           Clothing      M  3748\n",
       "6        Electronics      F  5832\n",
       "7        Electronics      M  6476\n",
       "8           Footwear      F  3716\n",
       "9           Footwear      M  3555\n",
       "10  Home and kitchen      F  4895\n",
       "11  Home and kitchen      M  5041"
      ]
     },
     "execution_count": 664,
     "metadata": {},
     "output_type": "execute_result"
    }
   ],
   "source": [
    "# no of transactions made by each category for every Gender\n",
    "popular = Customer_Final.groupby(['prod_cat', 'Gender'])['Qty'].sum().reset_index()\n",
    "popular"
   ]
  },
  {
   "cell_type": "code",
   "execution_count": 668,
   "id": "e05bc257-4557-4cf9-a55a-08f1a2de283b",
   "metadata": {},
   "outputs": [
    {
     "data": {
      "text/html": [
       "<div>\n",
       "<style scoped>\n",
       "    .dataframe tbody tr th:only-of-type {\n",
       "        vertical-align: middle;\n",
       "    }\n",
       "\n",
       "    .dataframe tbody tr th {\n",
       "        vertical-align: top;\n",
       "    }\n",
       "\n",
       "    .dataframe thead th {\n",
       "        text-align: right;\n",
       "    }\n",
       "</style>\n",
       "<table border=\"1\" class=\"dataframe\">\n",
       "  <thead>\n",
       "    <tr style=\"text-align: right;\">\n",
       "      <th>prod_cat</th>\n",
       "      <th>Bags</th>\n",
       "      <th>Books</th>\n",
       "      <th>Clothing</th>\n",
       "      <th>Electronics</th>\n",
       "      <th>Footwear</th>\n",
       "      <th>Home and kitchen</th>\n",
       "    </tr>\n",
       "    <tr>\n",
       "      <th>Gender</th>\n",
       "      <th></th>\n",
       "      <th></th>\n",
       "      <th></th>\n",
       "      <th></th>\n",
       "      <th></th>\n",
       "      <th></th>\n",
       "    </tr>\n",
       "  </thead>\n",
       "  <tbody>\n",
       "    <tr>\n",
       "      <th>F</th>\n",
       "      <td>2362</td>\n",
       "      <td>7070</td>\n",
       "      <td>3425</td>\n",
       "      <td>5832</td>\n",
       "      <td>3716</td>\n",
       "      <td>4895</td>\n",
       "    </tr>\n",
       "    <tr>\n",
       "      <th>M</th>\n",
       "      <td>2346</td>\n",
       "      <td>7587</td>\n",
       "      <td>3748</td>\n",
       "      <td>6476</td>\n",
       "      <td>3555</td>\n",
       "      <td>5041</td>\n",
       "    </tr>\n",
       "  </tbody>\n",
       "</table>\n",
       "</div>"
      ],
      "text/plain": [
       "prod_cat  Bags  Books  Clothing  Electronics  Footwear  Home and kitchen\n",
       "Gender                                                                  \n",
       "F         2362   7070      3425         5832      3716              4895\n",
       "M         2346   7587      3748         6476      3555              5041"
      ]
     },
     "execution_count": 668,
     "metadata": {},
     "output_type": "execute_result"
    }
   ],
   "source": [
    "popular.pivot(index=\"Gender\",columns=\"prod_cat\",values=\"Qty\")"
   ]
  },
  {
   "cell_type": "markdown",
   "id": "75f253ae-dbca-4073-8b43-5c9a7f4afa4c",
   "metadata": {},
   "source": [
    " Products with high transactions that are popular among males are:\n",
    " 1. Books   2. Electronics 3. Home and kitchen\n",
    "\n",
    " Products with high transactions that are popular among females are:\n",
    "   1. Books   2. Electronics 3. Home and kitchen"
   ]
  },
  {
   "cell_type": "markdown",
   "id": "2481bbea-6b44-40ad-b189-a2add4565b0f",
   "metadata": {},
   "source": [
    "# 6. Which City code has the maximum customers and what was the percentage of customers from that city?"
   ]
  },
  {
   "cell_type": "code",
   "execution_count": 391,
   "id": "95a314e6-d1bb-4565-8ccf-aa9de48433ad",
   "metadata": {},
   "outputs": [
    {
     "data": {
      "text/plain": [
       "city_code\n",
       "4.0     2422\n",
       "3.0     2411\n",
       "5.0     2360\n",
       "7.0     2356\n",
       "10.0    2333\n",
       "8.0     2330\n",
       "2.0     2270\n",
       "1.0     2258\n",
       "9.0     2178\n",
       "6.0     2127\n",
       "Name: count, dtype: int64"
      ]
     },
     "execution_count": 391,
     "metadata": {},
     "output_type": "execute_result"
    }
   ],
   "source": [
    "Customer_Final['city_code'].value_counts()"
   ]
  },
  {
   "cell_type": "code",
   "execution_count": 397,
   "id": "4b1f4fda-405a-4518-bba4-56069598ef2e",
   "metadata": {},
   "outputs": [
    {
     "data": {
      "text/plain": [
       "4.0"
      ]
     },
     "execution_count": 397,
     "metadata": {},
     "output_type": "execute_result"
    }
   ],
   "source": [
    "# city with maximum customers\n",
    "\n",
    "Customer_Final['city_code'].value_counts().idxmax()"
   ]
  },
  {
   "cell_type": "code",
   "execution_count": 415,
   "id": "5ea0d32e-815d-4c55-88b4-1bf8ddd02d57",
   "metadata": {},
   "outputs": [
    {
     "data": {
      "text/plain": [
       "2422"
      ]
     },
     "execution_count": 415,
     "metadata": {},
     "output_type": "execute_result"
    }
   ],
   "source": [
    "# max city customers count\n",
    "\n",
    "max_city_count = Customer_Final['city_code'].value_counts().max()\n",
    "max_city_count"
   ]
  },
  {
   "cell_type": "code",
   "execution_count": 413,
   "id": "4d18f1eb-8d05-4b07-bcea-91aba0e60a6c",
   "metadata": {},
   "outputs": [
    {
     "name": "stdout",
     "output_type": "stream",
     "text": [
      "10.51%\n"
     ]
    }
   ],
   "source": [
    "Percentage = (max_city_count/len(Customer_Final))* 100\n",
    "print(f\"{Percentage:.2f}%\")"
   ]
  },
  {
   "cell_type": "markdown",
   "id": "213c73fa-dd86-4a83-8f7e-6dce3a0d3c3b",
   "metadata": {},
   "source": [
    "# 7. Which store type sells the maximum products by value and by quantity?"
   ]
  },
  {
   "cell_type": "code",
   "execution_count": 432,
   "id": "2dc54c57-1113-4f75-952c-16115dca8291",
   "metadata": {},
   "outputs": [
    {
     "name": "stdout",
     "output_type": "stream",
     "text": [
      "       Store_type     total_amt    Qty\n",
      "0  Flagship store  9.715688e+06  11133\n",
      "1             MBR  9.674486e+06  11194\n",
      "2        TeleShop  9.364781e+06  10984\n",
      "3          e-Shop  1.982482e+07  22763\n"
     ]
    }
   ],
   "source": [
    "summary = Customer_Final.groupby('Store_type').agg({\n",
    "    'total_amt': 'sum',\n",
    "    'Qty': 'sum'\n",
    "     }).reset_index()\n",
    "print(summary)"
   ]
  },
  {
   "cell_type": "code",
   "execution_count": 454,
   "id": "5eae3a87-9fad-4fc7-a0b9-679c17239610",
   "metadata": {},
   "outputs": [
    {
     "data": {
      "text/plain": [
       "('e-Shop', 19824816.05)"
      ]
     },
     "execution_count": 454,
     "metadata": {},
     "output_type": "execute_result"
    }
   ],
   "source": [
    "# Identify the store type with the maximum sales value\n",
    "\n",
    "store = summary.loc[summary['total_amt'].idxmax()]\n",
    "store['Store_type'] , store['total_amt']"
   ]
  },
  {
   "cell_type": "code",
   "execution_count": 456,
   "id": "51a881f3-213f-4deb-a399-2dadab44b6d3",
   "metadata": {},
   "outputs": [
    {
     "data": {
      "text/plain": [
       "('e-Shop', 22763)"
      ]
     },
     "execution_count": 456,
     "metadata": {},
     "output_type": "execute_result"
    }
   ],
   "source": [
    "# Identify the store type with the maximum quantity sold\n",
    "\n",
    "store = summary.loc[summary['Qty'].idxmax()]\n",
    "store['Store_type'], store['Qty']"
   ]
  },
  {
   "cell_type": "markdown",
   "id": "8513a284-7f92-4953-b375-e05f79f11047",
   "metadata": {},
   "source": [
    "# 8. What was the total amount earned from the \"Electronics\" and \"Clothing\" categories from Flagship Stores?\n"
   ]
  },
  {
   "cell_type": "code",
   "execution_count": 481,
   "id": "25e34301-adf9-4054-8c89-befc366d5f1c",
   "metadata": {},
   "outputs": [
    {
     "data": {
      "text/html": [
       "<div>\n",
       "<style scoped>\n",
       "    .dataframe tbody tr th:only-of-type {\n",
       "        vertical-align: middle;\n",
       "    }\n",
       "\n",
       "    .dataframe tbody tr th {\n",
       "        vertical-align: top;\n",
       "    }\n",
       "\n",
       "    .dataframe thead th {\n",
       "        text-align: right;\n",
       "    }\n",
       "</style>\n",
       "<table border=\"1\" class=\"dataframe\">\n",
       "  <thead>\n",
       "    <tr style=\"text-align: right;\">\n",
       "      <th>Store_type</th>\n",
       "      <th>Flagship store</th>\n",
       "      <th>MBR</th>\n",
       "      <th>TeleShop</th>\n",
       "      <th>e-Shop</th>\n",
       "    </tr>\n",
       "    <tr>\n",
       "      <th>prod_cat</th>\n",
       "      <th></th>\n",
       "      <th></th>\n",
       "      <th></th>\n",
       "      <th></th>\n",
       "    </tr>\n",
       "  </thead>\n",
       "  <tbody>\n",
       "    <tr>\n",
       "      <th>Bags</th>\n",
       "      <td>870548.835</td>\n",
       "      <td>848678.675</td>\n",
       "      <td>789181.055</td>\n",
       "      <td>1616300.075</td>\n",
       "    </tr>\n",
       "    <tr>\n",
       "      <th>Books</th>\n",
       "      <td>2488205.850</td>\n",
       "      <td>2496039.195</td>\n",
       "      <td>2545005.060</td>\n",
       "      <td>5293443.935</td>\n",
       "    </tr>\n",
       "    <tr>\n",
       "      <th>Clothing</th>\n",
       "      <td>1194423.230</td>\n",
       "      <td>1287686.335</td>\n",
       "      <td>1241834.360</td>\n",
       "      <td>2527193.565</td>\n",
       "    </tr>\n",
       "    <tr>\n",
       "      <th>Electronics</th>\n",
       "      <td>2215136.040</td>\n",
       "      <td>2107514.565</td>\n",
       "      <td>1973338.835</td>\n",
       "      <td>4426474.195</td>\n",
       "    </tr>\n",
       "    <tr>\n",
       "      <th>Footwear</th>\n",
       "      <td>1234806.560</td>\n",
       "      <td>1112163.715</td>\n",
       "      <td>1235719.290</td>\n",
       "      <td>2637084.710</td>\n",
       "    </tr>\n",
       "    <tr>\n",
       "      <th>Home and kitchen</th>\n",
       "      <td>1712567.675</td>\n",
       "      <td>1822403.570</td>\n",
       "      <td>1579702.475</td>\n",
       "      <td>3324319.570</td>\n",
       "    </tr>\n",
       "  </tbody>\n",
       "</table>\n",
       "</div>"
      ],
      "text/plain": [
       "Store_type        Flagship store          MBR     TeleShop       e-Shop\n",
       "prod_cat                                                               \n",
       "Bags                  870548.835   848678.675   789181.055  1616300.075\n",
       "Books                2488205.850  2496039.195  2545005.060  5293443.935\n",
       "Clothing             1194423.230  1287686.335  1241834.360  2527193.565\n",
       "Electronics          2215136.040  2107514.565  1973338.835  4426474.195\n",
       "Footwear             1234806.560  1112163.715  1235719.290  2637084.710\n",
       "Home and kitchen     1712567.675  1822403.570  1579702.475  3324319.570"
      ]
     },
     "execution_count": 481,
     "metadata": {},
     "output_type": "execute_result"
    }
   ],
   "source": [
    "stores= Customer_Final.pivot_table(index='prod_cat', columns='Store_type', values='total_amt', aggfunc='sum')\n",
    "stores"
   ]
  },
  {
   "cell_type": "code",
   "execution_count": 485,
   "id": "c085510b-3aec-4307-847c-4e9f581a5ad1",
   "metadata": {},
   "outputs": [
    {
     "data": {
      "text/plain": [
       "prod_cat\n",
       "Electronics    2215136.04\n",
       "Clothing       1194423.23\n",
       "Name: Flagship store, dtype: float64"
      ]
     },
     "execution_count": 485,
     "metadata": {},
     "output_type": "execute_result"
    }
   ],
   "source": [
    "stores.loc[['Electronics','Clothing'] , 'Flagship store']"
   ]
  },
  {
   "cell_type": "code",
   "execution_count": 487,
   "id": "c14bc179-e7f7-4b28-bac6-7f33504e3960",
   "metadata": {},
   "outputs": [
    {
     "data": {
      "text/plain": [
       "3409559.27"
      ]
     },
     "execution_count": 487,
     "metadata": {},
     "output_type": "execute_result"
    }
   ],
   "source": [
    "stores.loc[['Electronics','Clothing'] , 'Flagship store'].sum()"
   ]
  },
  {
   "cell_type": "markdown",
   "id": "aefa9ead-55fd-4264-a4ee-c72d64e26d83",
   "metadata": {},
   "source": [
    "# 9. What was the total amount earned from \"Male\" customers under the \"Electronics\" category?"
   ]
  },
  {
   "cell_type": "code",
   "execution_count": 490,
   "id": "f5d30eea-4499-4258-b911-074c4028ac2c",
   "metadata": {},
   "outputs": [
    {
     "data": {
      "text/html": [
       "<div>\n",
       "<style scoped>\n",
       "    .dataframe tbody tr th:only-of-type {\n",
       "        vertical-align: middle;\n",
       "    }\n",
       "\n",
       "    .dataframe tbody tr th {\n",
       "        vertical-align: top;\n",
       "    }\n",
       "\n",
       "    .dataframe thead th {\n",
       "        text-align: right;\n",
       "    }\n",
       "</style>\n",
       "<table border=\"1\" class=\"dataframe\">\n",
       "  <thead>\n",
       "    <tr style=\"text-align: right;\">\n",
       "      <th>Gender</th>\n",
       "      <th>F</th>\n",
       "      <th>M</th>\n",
       "    </tr>\n",
       "    <tr>\n",
       "      <th>prod_cat</th>\n",
       "      <th></th>\n",
       "      <th></th>\n",
       "    </tr>\n",
       "  </thead>\n",
       "  <tbody>\n",
       "    <tr>\n",
       "      <th>Bags</th>\n",
       "      <td>2077985.650</td>\n",
       "      <td>2046722.990</td>\n",
       "    </tr>\n",
       "    <tr>\n",
       "      <th>Books</th>\n",
       "      <td>6164692.235</td>\n",
       "      <td>6645972.775</td>\n",
       "    </tr>\n",
       "    <tr>\n",
       "      <th>Clothing</th>\n",
       "      <td>3026750.805</td>\n",
       "      <td>3224079.495</td>\n",
       "    </tr>\n",
       "    <tr>\n",
       "      <th>Electronics</th>\n",
       "      <td>5019354.210</td>\n",
       "      <td>5703109.425</td>\n",
       "    </tr>\n",
       "    <tr>\n",
       "      <th>Footwear</th>\n",
       "      <td>3202552.990</td>\n",
       "      <td>3014672.050</td>\n",
       "    </tr>\n",
       "    <tr>\n",
       "      <th>Home and kitchen</th>\n",
       "      <td>4132177.335</td>\n",
       "      <td>4301075.480</td>\n",
       "    </tr>\n",
       "  </tbody>\n",
       "</table>\n",
       "</div>"
      ],
      "text/plain": [
       "Gender                      F            M\n",
       "prod_cat                                  \n",
       "Bags              2077985.650  2046722.990\n",
       "Books             6164692.235  6645972.775\n",
       "Clothing          3026750.805  3224079.495\n",
       "Electronics       5019354.210  5703109.425\n",
       "Footwear          3202552.990  3014672.050\n",
       "Home and kitchen  4132177.335  4301075.480"
      ]
     },
     "execution_count": 490,
     "metadata": {},
     "output_type": "execute_result"
    }
   ],
   "source": [
    "amounts = Customer_Final.pivot_table(index='prod_cat',columns='Gender', values='total_amt', aggfunc='sum')\n",
    "amounts"
   ]
  },
  {
   "cell_type": "code",
   "execution_count": 504,
   "id": "f736a9f7-108c-4bf3-a28b-25f68eecc8e2",
   "metadata": {},
   "outputs": [
    {
     "name": "stdout",
     "output_type": "stream",
     "text": [
      "prod_cat\n",
      "Electronics    5703109.425\n",
      "Name: M, dtype: float64\n"
     ]
    }
   ],
   "source": [
    "total_amount_by_male = amounts.loc[['Electronics'], 'M']\n",
    "print(total_amount_by_male);"
   ]
  },
  {
   "cell_type": "markdown",
   "id": "65e38b97-d4cf-41cd-bf16-fea6a9238a88",
   "metadata": {},
   "source": [
    "# 10. How many customers have more than 10 unique transactions, after removing all transactions which have any negative amounts?"
   ]
  },
  {
   "cell_type": "code",
   "execution_count": 508,
   "id": "10a3b835-a141-477f-862e-b15f7c2197fa",
   "metadata": {},
   "outputs": [
    {
     "data": {
      "text/html": [
       "<div>\n",
       "<style scoped>\n",
       "    .dataframe tbody tr th:only-of-type {\n",
       "        vertical-align: middle;\n",
       "    }\n",
       "\n",
       "    .dataframe tbody tr th {\n",
       "        vertical-align: top;\n",
       "    }\n",
       "\n",
       "    .dataframe thead th {\n",
       "        text-align: right;\n",
       "    }\n",
       "</style>\n",
       "<table border=\"1\" class=\"dataframe\">\n",
       "  <thead>\n",
       "    <tr style=\"text-align: right;\">\n",
       "      <th></th>\n",
       "      <th>customer_Id</th>\n",
       "      <th>DOB</th>\n",
       "      <th>Gender</th>\n",
       "      <th>city_code</th>\n",
       "      <th>transaction_id</th>\n",
       "      <th>cust_id</th>\n",
       "      <th>tran_date</th>\n",
       "      <th>prod_subcat_code</th>\n",
       "      <th>prod_cat_code</th>\n",
       "      <th>Qty</th>\n",
       "      <th>Rate</th>\n",
       "      <th>Tax</th>\n",
       "      <th>total_amt</th>\n",
       "      <th>Store_type</th>\n",
       "      <th>prod_cat</th>\n",
       "      <th>prod_sub_cat_code</th>\n",
       "      <th>prod_subcat</th>\n",
       "    </tr>\n",
       "  </thead>\n",
       "  <tbody>\n",
       "    <tr>\n",
       "      <th>0</th>\n",
       "      <td>268408</td>\n",
       "      <td>1970-01-02</td>\n",
       "      <td>M</td>\n",
       "      <td>4.0</td>\n",
       "      <td>87243835584</td>\n",
       "      <td>268408</td>\n",
       "      <td>2014-01-13</td>\n",
       "      <td>7</td>\n",
       "      <td>5</td>\n",
       "      <td>5</td>\n",
       "      <td>187</td>\n",
       "      <td>98.175</td>\n",
       "      <td>1033.175</td>\n",
       "      <td>TeleShop</td>\n",
       "      <td>Books</td>\n",
       "      <td>7</td>\n",
       "      <td>Fiction</td>\n",
       "    </tr>\n",
       "    <tr>\n",
       "      <th>1</th>\n",
       "      <td>275152</td>\n",
       "      <td>1970-01-16</td>\n",
       "      <td>M</td>\n",
       "      <td>4.0</td>\n",
       "      <td>73109425404</td>\n",
       "      <td>275152</td>\n",
       "      <td>2011-03-25</td>\n",
       "      <td>7</td>\n",
       "      <td>5</td>\n",
       "      <td>2</td>\n",
       "      <td>464</td>\n",
       "      <td>97.440</td>\n",
       "      <td>1025.440</td>\n",
       "      <td>e-Shop</td>\n",
       "      <td>Books</td>\n",
       "      <td>7</td>\n",
       "      <td>Fiction</td>\n",
       "    </tr>\n",
       "    <tr>\n",
       "      <th>2</th>\n",
       "      <td>275034</td>\n",
       "      <td>1970-01-18</td>\n",
       "      <td>F</td>\n",
       "      <td>4.0</td>\n",
       "      <td>64777271023</td>\n",
       "      <td>275034</td>\n",
       "      <td>2011-05-23</td>\n",
       "      <td>7</td>\n",
       "      <td>5</td>\n",
       "      <td>2</td>\n",
       "      <td>197</td>\n",
       "      <td>41.370</td>\n",
       "      <td>435.370</td>\n",
       "      <td>Flagship store</td>\n",
       "      <td>Books</td>\n",
       "      <td>7</td>\n",
       "      <td>Fiction</td>\n",
       "    </tr>\n",
       "    <tr>\n",
       "      <th>3</th>\n",
       "      <td>270829</td>\n",
       "      <td>1970-01-22</td>\n",
       "      <td>F</td>\n",
       "      <td>8.0</td>\n",
       "      <td>87174343938</td>\n",
       "      <td>270829</td>\n",
       "      <td>NaT</td>\n",
       "      <td>7</td>\n",
       "      <td>5</td>\n",
       "      <td>4</td>\n",
       "      <td>1141</td>\n",
       "      <td>479.220</td>\n",
       "      <td>5043.220</td>\n",
       "      <td>e-Shop</td>\n",
       "      <td>Books</td>\n",
       "      <td>7</td>\n",
       "      <td>Fiction</td>\n",
       "    </tr>\n",
       "    <tr>\n",
       "      <th>4</th>\n",
       "      <td>267657</td>\n",
       "      <td>1970-01-29</td>\n",
       "      <td>F</td>\n",
       "      <td>7.0</td>\n",
       "      <td>76242744953</td>\n",
       "      <td>267657</td>\n",
       "      <td>2013-05-23</td>\n",
       "      <td>7</td>\n",
       "      <td>5</td>\n",
       "      <td>4</td>\n",
       "      <td>1020</td>\n",
       "      <td>428.400</td>\n",
       "      <td>4508.400</td>\n",
       "      <td>e-Shop</td>\n",
       "      <td>Books</td>\n",
       "      <td>7</td>\n",
       "      <td>Fiction</td>\n",
       "    </tr>\n",
       "  </tbody>\n",
       "</table>\n",
       "</div>"
      ],
      "text/plain": [
       "   customer_Id        DOB Gender  city_code  transaction_id  cust_id  \\\n",
       "0       268408 1970-01-02      M        4.0     87243835584   268408   \n",
       "1       275152 1970-01-16      M        4.0     73109425404   275152   \n",
       "2       275034 1970-01-18      F        4.0     64777271023   275034   \n",
       "3       270829 1970-01-22      F        8.0     87174343938   270829   \n",
       "4       267657 1970-01-29      F        7.0     76242744953   267657   \n",
       "\n",
       "   tran_date  prod_subcat_code  prod_cat_code  Qty  Rate      Tax  total_amt  \\\n",
       "0 2014-01-13                 7              5    5   187   98.175   1033.175   \n",
       "1 2011-03-25                 7              5    2   464   97.440   1025.440   \n",
       "2 2011-05-23                 7              5    2   197   41.370    435.370   \n",
       "3        NaT                 7              5    4  1141  479.220   5043.220   \n",
       "4 2013-05-23                 7              5    4  1020  428.400   4508.400   \n",
       "\n",
       "       Store_type prod_cat  prod_sub_cat_code prod_subcat  \n",
       "0        TeleShop    Books                  7     Fiction  \n",
       "1          e-Shop    Books                  7     Fiction  \n",
       "2  Flagship store    Books                  7     Fiction  \n",
       "3          e-Shop    Books                  7     Fiction  \n",
       "4          e-Shop    Books                  7     Fiction  "
      ]
     },
     "execution_count": 508,
     "metadata": {},
     "output_type": "execute_result"
    }
   ],
   "source": [
    "positive = Customer_Final.loc[Customer_Final[\"total_amt\"]>0,:]\n",
    "positive.head()"
   ]
  },
  {
   "cell_type": "code",
   "execution_count": 530,
   "id": "d0ff0b7d-785f-4544-a097-592a54557625",
   "metadata": {},
   "outputs": [
    {
     "data": {
      "text/plain": [
       "6"
      ]
     },
     "execution_count": 530,
     "metadata": {},
     "output_type": "execute_result"
    }
   ],
   "source": [
    "counts = positive.groupby('customer_Id')['transaction_id'].nunique().reset_index()\n",
    "\n",
    "#count of unique transactions for each customer\n",
    "unique = counts[counts['transaction_id']>10]\n",
    "\n",
    "# count of customers who have more than 10 unique transactions\n",
    "unique['customer_Id'].count()"
   ]
  },
  {
   "cell_type": "markdown",
   "id": "ee1612e1-d18f-4008-bd0d-09340175898b",
   "metadata": {},
   "source": [
    "# 11. For all customers aged between 25 - 35, find out:\n",
    "# a. What was the total amount spent for “Electronics” and “Books” product categories?"
   ]
  },
  {
   "cell_type": "code",
   "execution_count": null,
   "id": "369d97c9-f1b7-4fd5-8189-e17c5c5f53e5",
   "metadata": {},
   "outputs": [],
   "source": [
    "# changing DOB column to datetime data type\n",
    "\n",
    "from datetime import datetime\n",
    "Customer_Final['DOB'] = Customer_Final['DOB'].apply(lambda x: datetime.strptime(x, '%d-%m-%Y'))"
   ]
  },
  {
   "cell_type": "code",
   "execution_count": 574,
   "id": "4a66d08b-2766-4006-b374-234b35ddc140",
   "metadata": {},
   "outputs": [],
   "source": [
    "Customer_Final['Age'] = (datetime.now().year - Customer_Final['DOB'].dt.year)"
   ]
  },
  {
   "cell_type": "code",
   "execution_count": 588,
   "id": "46b5c06c-4e5f-419c-a998-d1b342fde438",
   "metadata": {},
   "outputs": [
    {
     "name": "stdout",
     "output_type": "stream",
     "text": [
      "Rs. 3928470.585\n"
     ]
    }
   ],
   "source": [
    "cust = Customer_Final[(Customer_Final['Age'] >= 25) & (Customer_Final['Age'] <= 35)]\n",
    "trans = cust[cust['prod_cat'].isin(['Electronics', 'Books'])]\n",
    "total_amount_spent = trans['total_amt'].sum()\n",
    "\n",
    "print('Rs.',total_amount_spent)"
   ]
  },
  {
   "cell_type": "markdown",
   "id": "117d86a1-0abb-4722-9629-915716b9c90b",
   "metadata": {},
   "source": [
    "# b. What was the total amount spent by these customers between 1st Jan, 2014 to 1st Mar, 2014?"
   ]
  },
  {
   "cell_type": "code",
   "execution_count": null,
   "id": "d17e907b-3844-476b-b541-22e8820b7813",
   "metadata": {},
   "outputs": [],
   "source": [
    "# changing tran_date column to datetime data type\n",
    "Customer_Final['tran_date'] = pd.to_datetime(Customer_Final['tran_date'], errors='coerce', dayfirst=True)"
   ]
  },
  {
   "cell_type": "code",
   "execution_count": 603,
   "id": "7620cb21-1609-47af-9bf8-bd0ba45e747f",
   "metadata": {},
   "outputs": [
    {
     "name": "stdout",
     "output_type": "stream",
     "text": [
      "Rs. 236155.07499999998\n"
     ]
    }
   ],
   "source": [
    "criteria = Customer_Final[((Customer_Final.tran_date >= '2014-01-01')&(Customer_Final.tran_date <= '2014-03-01'))& ((Customer_Final['Age'] >= 25) & (Customer_Final['Age'] <= 35))]\n",
    "total_amount_between_months = criteria.total_amt.sum()\n",
    "\n",
    "print('Rs.', total_amount_between_months)"
   ]
  }
 ],
 "metadata": {
  "kernelspec": {
   "display_name": "Python 3 (ipykernel)",
   "language": "python",
   "name": "python3"
  },
  "language_info": {
   "codemirror_mode": {
    "name": "ipython",
    "version": 3
   },
   "file_extension": ".py",
   "mimetype": "text/x-python",
   "name": "python",
   "nbconvert_exporter": "python",
   "pygments_lexer": "ipython3",
   "version": "3.11.7"
  }
 },
 "nbformat": 4,
 "nbformat_minor": 5
}
